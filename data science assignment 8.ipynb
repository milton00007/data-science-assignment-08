{
 "cells": [
  {
   "cell_type": "code",
   "execution_count": 1,
   "metadata": {},
   "outputs": [
    {
     "name": "stdout",
     "output_type": "stream",
     "text": [
      "            s\n",
      "bdate        \n",
      "2015-01-01  7\n",
      "2015-01-02  9\n",
      "2015-01-05  8\n",
      "2015-01-06  3\n",
      "2015-01-07  4\n"
     ]
    }
   ],
   "source": [
    "# Assignment 8.2\n",
    "\"\"\"\n",
    "A simple program in python for creating a DatetimeIndex that contains each business day of 2015 and use it to index a\n",
    "Series of random numbers.\n",
    "\"\"\"\n",
    "import numpy as np\n",
    "import pandas as pd\n",
    "DatetimeIndex=pd.bdate_range(start='1/1/2015',end='31/12/2015') #DatetimeIndex list which contain all business day\n",
    "bdateseries=pd.Series(DatetimeIndex) #convert list to series\n",
    "randnoseries=pd.Series(np.random.randint(1,20,len(DatetimeIndex))) #randnoseries series which contain random numbers\n",
    "df=pd.DataFrame(dict(bdate=bdateseries,s=randnoseries)) #creating a data frame for 2 columns\n",
    "df.set_index('bdate',inplace=True)  #set bdate as the index for dataframe\n",
    "print(df.head()) #printing the head of data frame"
   ]
  },
  {
   "cell_type": "code",
   "execution_count": null,
   "metadata": {},
   "outputs": [],
   "source": []
  },
  {
   "cell_type": "code",
   "execution_count": 2,
   "metadata": {},
   "outputs": [
    {
     "name": "stdout",
     "output_type": "stream",
     "text": [
      "the sum of the values in s for every Wednesday is 6838\n"
     ]
    }
   ],
   "source": [
    "\"\"\"\n",
    "A simple program in python to find the sum of the values in s for every Wednesday for above data frame\n",
    "\n",
    "\"\"\"\n",
    "df=pd.DataFrame(dict(bdate=bdateseries,s=randnoseries)) #creating a dataframe with default index\n",
    "df.set_index('bdate',inplace=True) #replacing the default index with the bdate\n",
    "\n",
    "wed_index=np.where(df.index.dayofweek==2) #getting the index for bdate which is wednesday\n",
    "index_sec=np.arange(0,len(DatetimeIndex),1) #creating a list [0,1,2,.....260]\n",
    "\n",
    "df['new_index']=index_sec #adding list index_sec in the df\n",
    "df.set_index('new_index',inplace=False) #make new_index as the index of df\n",
    "\n",
    "sum_val=sum(df.iloc[wed_index[0],1].values) #summing value of s on indexes which has wednesday as business day\n",
    "print(\"the sum of the values in s for every Wednesday is\",sum_val) #printing the value\n",
    "\n",
    "\n"
   ]
  },
  {
   "cell_type": "code",
   "execution_count": null,
   "metadata": {},
   "outputs": [],
   "source": []
  },
  {
   "cell_type": "code",
   "execution_count": 3,
   "metadata": {},
   "outputs": [
    {
     "name": "stdout",
     "output_type": "stream",
     "text": [
      "[10.363636363636363, 9.35, 9.818181818181818, 8.863636363636363, 11.19047619047619, 10.227272727272727, 10.173913043478262, 8.761904761904763, 11.272727272727273, 9.545454545454545, 9.476190476190476, 9.521739130434783]\n"
     ]
    }
   ],
   "source": [
    "\"\"\"\n",
    "A simple program in python to find the average For each calendar month\n",
    "\"\"\"\n",
    "df=pd.DataFrame(dict(bdate=bdateseries,s=randnoseries)) #creating a dataframe with default index\n",
    "df.set_index('bdate',inplace=True) #replacing the default index with the bdate\n",
    "avg_by_month=[0,0,0,0,0,0,0,0,0,0,0,0] #will keep data for sum of s value monthly\n",
    "count_by_month=[0,0,0,0,0,0,0,0,0,0,0,0] #will keep count for each month useful to calc average\n",
    "date_list =df.iloc[:,0].index #keep list of DatetimeIndex\n",
    "# print(date_list)\n",
    "\n",
    "for day in date_list:#iterating through whole list\n",
    "    if(day.month):\n",
    "        avg_by_month[day.month-1]=avg_by_month[day.month-1]+df.loc[day,'s'] #summing value of s\n",
    "        count_by_month[day.month-1]=count_by_month[day.month-1]+1 #counting no of s added\n",
    "    \n",
    "counter=0 \n",
    "while(counter<12):\n",
    "    avg_by_month[counter]=avg_by_month[counter]/count_by_month[counter] #calculating s by diving total no of s added\n",
    "    counter=counter+1\n",
    "print(avg_by_month) #print avrage of n monthly wise\n"
   ]
  },
  {
   "cell_type": "code",
   "execution_count": null,
   "metadata": {},
   "outputs": [],
   "source": []
  },
  {
   "cell_type": "code",
   "execution_count": 4,
   "metadata": {},
   "outputs": [
    {
     "name": "stdout",
     "output_type": "stream",
     "text": [
      "for 1st group of months 1-4 \n",
      " DatetimeIndex(['2015-01-09', '2015-01-20', '2015-01-22', '2015-01-27',\n",
      "               '2015-02-09', '2015-04-21'],\n",
      "              dtype='datetime64[ns]', name='bdate', freq=None)\n",
      "for 2nd group of months 5-8 \n",
      " DatetimeIndex(['2015-05-08', '2015-05-13', '2015-05-18', '2015-06-03',\n",
      "               '2015-07-30', '2015-08-07'],\n",
      "              dtype='datetime64[ns]', name='bdate', freq=None)\n",
      "for 3rd group of months 9-12 \n",
      " DatetimeIndex(['2015-09-21', '2015-10-14', '2015-12-02', '2015-12-18'], dtype='datetime64[ns]', name='bdate', freq=None)\n"
     ]
    },
    {
     "name": "stderr",
     "output_type": "stream",
     "text": [
      "/home/milton/anaconda3/lib/python3.6/site-packages/ipykernel_launcher.py:25: UserWarning: Boolean Series key will be reindexed to match DataFrame index.\n",
      "/home/milton/anaconda3/lib/python3.6/site-packages/ipykernel_launcher.py:29: UserWarning: Boolean Series key will be reindexed to match DataFrame index.\n",
      "/home/milton/anaconda3/lib/python3.6/site-packages/ipykernel_launcher.py:33: UserWarning: Boolean Series key will be reindexed to match DataFrame index.\n"
     ]
    }
   ],
   "source": [
    "# Assignment 8.5# Assignm \n",
    "\"\"\"\n",
    "A simple program in python which calculates For each group of four consecutive calendar months in s, find the date on which the\n",
    "highest value occurred.\n",
    "\"\"\"      \n",
    "df=pd.DataFrame(dict(bdate=bdateseries,s=randnoseries)) #creating a dataframe with default index\n",
    "df.set_index('bdate',inplace=True) #replacing the default index with the bdate\n",
    "\n",
    "month_cate=np.zeros(len(DatetimeIndex),dtype='int64') #a list initialized with 0\n",
    "df[\"month_cate\"]=month_cate #adding month_cate as a column in df\n",
    "date_list =df.iloc[:,0].index #keep list of DatetimeIndex\n",
    "\n",
    "for day in date_list:\n",
    "    if(day.month>=1 and day.month<=4): #check for 1st category month\n",
    "        df.loc[day,'month_cate']=0 #setting value of month_cate\n",
    "    if(day.month>=5 and day.month<=8): #check for 2nd category month\n",
    "        df.loc[day,'month_cate']=1  #setting value of month_cate\n",
    "    if(day.month>=9 and day.month<=12): #check for 3rd category month\n",
    "        df.loc[day,'month_cate']=2  #setting value of month_cate\n",
    "groupby_month_categ=df.groupby('month_cate')  #use groupby to groupby month_cate\n",
    "\n",
    "max_s_value=groupby_month_categ.max()  #max value in each category\n",
    "\n",
    "df1=df[df.month_cate==0]\n",
    "df2=df1[df.s==max_s_value.s[0]]\n",
    "print(\"for 1st group of months 1-4 \\n\",df2.index) #date for max s value in category 1\n",
    "\n",
    "df1=df[df.month_cate==1]\n",
    "df2=df1[df.s==max_s_value.s[1]]\n",
    "print(\"for 2nd group of months 5-8 \\n\",df2.index)  #date for max s value in category 2\n",
    "\n",
    "df1=df[df.month_cate==2]\n",
    "df2=df1[df.s==max_s_value.s[2]]\n",
    "print(\"for 3rd group of months 9-12 \\n\",df2.index)  #date for max s value in category 3"
   ]
  }
 ],
 "metadata": {
  "kernelspec": {
   "display_name": "Python 3",
   "language": "python",
   "name": "python3"
  },
  "language_info": {
   "codemirror_mode": {
    "name": "ipython",
    "version": 3
   },
   "file_extension": ".py",
   "mimetype": "text/x-python",
   "name": "python",
   "nbconvert_exporter": "python",
   "pygments_lexer": "ipython3",
   "version": "3.6.5"
  }
 },
 "nbformat": 4,
 "nbformat_minor": 2
}
